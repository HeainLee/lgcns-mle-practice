{
  "cells": [
    {
      "cell_type": "markdown",
      "metadata": {},
      "source": [
        "#### 노트북 수행 필요한 세팅"
      ]
    },
    {
      "cell_type": "code",
      "execution_count": null,
      "metadata": {
        "id": "HTyQoKMrzX9P"
      },
      "outputs": [],
      "source": [
        "!mkdir model_artifacts"
      ]
    },
    {
      "cell_type": "code",
      "execution_count": null,
      "metadata": {},
      "outputs": [],
      "source": [
        "# 다음 명령어는 터미널 창에서 입력!\n",
        "# sudo add-apt-repository universe\n",
        "# sudo apt update\n",
        "# sudo apt install graphviz"
      ]
    },
    {
      "cell_type": "code",
      "execution_count": null,
      "metadata": {
        "id": "__041O4fx19J"
      },
      "outputs": [],
      "source": [
        "!python3 -m pip install --upgrade pip\n",
        "!pip install mlflow --quiet\n",
        "!pip install pyngrok --quiet\n",
        "!pip install graphviz --quiet\n",
        "!pip install pydotplus --quiet"
      ]
    },
    {
      "cell_type": "markdown",
      "metadata": {},
      "source": [
        "#### 분석용 패키지 임포트"
      ]
    },
    {
      "cell_type": "code",
      "execution_count": null,
      "metadata": {
        "id": "DIAHSCcBx19L"
      },
      "outputs": [],
      "source": [
        "import itertools\n",
        "import warnings\n",
        "\n",
        "import graphviz\n",
        "import matplotlib.pyplot as plt\n",
        "import mlflow\n",
        "import mlflow.sklearn\n",
        "import numpy as np\n",
        "import pandas as pd\n",
        "import seaborn as sns\n",
        "from IPython.display import Image\n",
        "from mlflow import log_artifact, log_metric, log_param\n",
        "from mlflow.models.signature import infer_signature\n",
        "from pydotplus import graph_from_dot_data\n",
        "from sklearn import tree\n",
        "from sklearn.ensemble import GradientBoostingRegressor\n",
        "from sklearn.inspection import permutation_importance\n",
        "from sklearn.metrics import mean_squared_error\n",
        "from sklearn.model_selection import KFold, cross_val_score, train_test_split\n",
        "\n",
        "plt.style.use(\"fivethirtyeight\")\n",
        "pd.plotting.register_matplotlib_converters()\n",
        "\n",
        "warnings.filterwarnings(\"ignore\")"
      ]
    },
    {
      "cell_type": "markdown",
      "metadata": {
        "id": "wJ5ygeJ9x19M"
      },
      "source": [
        "#### Import Data"
      ]
    },
    {
      "cell_type": "code",
      "execution_count": null,
      "metadata": {
        "id": "pB33IzB-x19T"
      },
      "outputs": [],
      "source": [
        "# 실습파일 다운로드 및 unzip\n",
        "!wget -nc \"http://archive.ics.uci.edu/ml/machine-learning-databases/00275/Bike-Sharing-Dataset.zip\"\n",
        "!unzip -o \"Bike-Sharing-Dataset.zip\"\n",
        "\n",
        "# 데이터를 판다스 데이터프레임으로 로드\n",
        "bike_sharing = pd.read_csv(\"hour.csv\")\n",
        "bike_sharing"
      ]
    },
    {
      "cell_type": "markdown",
      "metadata": {
        "id": "slTFMJKkx19U"
      },
      "source": [
        "#### Data preprocessing"
      ]
    },
    {
      "cell_type": "code",
      "execution_count": null,
      "metadata": {
        "id": "Z-Csb7XPx19U"
      },
      "outputs": [],
      "source": [
        "# 필요컬럼만 사용\n",
        "bike_sharing.drop(\n",
        "    columns=[\"instant\", \"dteday\", \"registered\", \"casual\"], inplace=True\n",
        ")\n",
        "\n",
        "# 컬럼명 변경\n",
        "bike_sharing.rename(\n",
        "    columns={\n",
        "        \"yr\": \"year\",\n",
        "        \"mnth\": \"month\",\n",
        "        \"hr\": \"hour_of_day\",\n",
        "        \"holiday\": \"is_holiday\",\n",
        "        \"workingday\": \"is_workingday\",\n",
        "        \"weathersit\": \"weather_situation\",\n",
        "        \"temp\": \"temperature\",\n",
        "        \"atemp\": \"feels_like_temperature\",\n",
        "        \"hum\": \"humidity\",\n",
        "        \"cnt\": \"rented_bikes\",\n",
        "    },\n",
        "    inplace=True,\n",
        ")\n",
        "\n",
        "bike_sharing"
      ]
    },
    {
      "cell_type": "markdown",
      "metadata": {
        "id": "zncSNvT0x19V"
      },
      "source": [
        "#### Prepare training and test data sets"
      ]
    },
    {
      "cell_type": "code",
      "execution_count": null,
      "metadata": {
        "id": "QqIRBAYNx19V"
      },
      "outputs": [],
      "source": [
        "# train/test 데이터 분리 (70:30 랜덤)\n",
        "X = bike_sharing.drop(\"rented_bikes\", axis=1)\n",
        "y = bike_sharing.rented_bikes\n",
        "X_train, X_test, y_train, y_test = train_test_split(\n",
        "    X, y, train_size=0.7, test_size=0.3, random_state=42\n",
        ")\n",
        "\n",
        "print(f\"Training samples: {X_train.size}\")\n",
        "print(f\"Test samples: {X_test.size}\")"
      ]
    },
    {
      "cell_type": "markdown",
      "metadata": {
        "id": "IBR9EMSVx19V"
      },
      "source": [
        "#### Evaluation Metrics"
      ]
    },
    {
      "cell_type": "code",
      "execution_count": null,
      "metadata": {
        "id": "yxKpQ3KGx19W"
      },
      "outputs": [],
      "source": [
        "def rmse(y, y_pred):\n",
        "    return np.sqrt(mean_squared_error(y, y_pred))\n",
        "\n",
        "\n",
        "def rmse_score(y, y_pred):\n",
        "    score = rmse(y, y_pred)\n",
        "    print(\"RMSE score: {:.4f}\".format(score))\n",
        "    return score\n",
        "\n",
        "\n",
        "def rmsle_cv(model, X_train, y_train):\n",
        "    kf = KFold(n_splits=3, shuffle=True, random_state=42).get_n_splits(\n",
        "        X_train.values\n",
        "    )\n",
        "    rmse = np.sqrt(\n",
        "        -cross_val_score(\n",
        "            model,\n",
        "            X_train.values,\n",
        "            y_train,\n",
        "            scoring=\"neg_mean_squared_error\",\n",
        "            cv=kf,\n",
        "        )\n",
        "    )\n",
        "    return rmse\n",
        "\n",
        "\n",
        "def rmse_cv_score(model, X_train, y_train):\n",
        "    score = rmsle_cv(model, X_train, y_train)\n",
        "    print(\n",
        "        \"Cross-Validation RMSE score: {:.4f} (std = {:.4f})\".format(\n",
        "            score.mean(), score.std()\n",
        "        )\n",
        "    )\n",
        "    return score"
      ]
    },
    {
      "cell_type": "markdown",
      "metadata": {
        "id": "7GF7VsmOx19W"
      },
      "source": [
        "#### Feature Importance"
      ]
    },
    {
      "cell_type": "code",
      "execution_count": null,
      "metadata": {
        "id": "Z71WkFakx19X"
      },
      "outputs": [],
      "source": [
        "def model_feature_importance(model):\n",
        "    feature_importance = pd.DataFrame(\n",
        "        model.feature_importances_,\n",
        "        index=X_train.columns,\n",
        "        columns=[\"Importance\"],\n",
        "    )\n",
        "\n",
        "    # 중요도에 따른 정렬\n",
        "    feature_importance.sort_values(\n",
        "        by=\"Importance\", ascending=False, inplace=True\n",
        "    )\n",
        "\n",
        "    # plot\n",
        "    plt.figure(figsize=(12, 8))\n",
        "    sns.barplot(\n",
        "        data=feature_importance.reset_index(),\n",
        "        y=\"index\",\n",
        "        x=\"Importance\",\n",
        "    ).set_title(\"Feature Importance\")\n",
        "    # save image\n",
        "    plt.savefig(\"model_artifacts/feature_importance.png\", bbox_inches=\"tight\")"
      ]
    },
    {
      "cell_type": "markdown",
      "metadata": {
        "id": "8GmHk3Bux19X"
      },
      "source": [
        "#### Decision Tree Visualization"
      ]
    },
    {
      "cell_type": "code",
      "execution_count": null,
      "metadata": {
        "id": "ConGjqtVx19X"
      },
      "outputs": [],
      "source": [
        "def model_tree_visualization(model):\n",
        "    tree_dot_data = tree.export_graphviz(\n",
        "        decision_tree=model.estimators_[0, 0],\n",
        "        label=\"all\",\n",
        "        feature_names=X_train.columns,\n",
        "        filled=True,\n",
        "        rounded=True,\n",
        "        proportion=True,\n",
        "        impurity=False,\n",
        "        precision=1,\n",
        "    )\n",
        "\n",
        "    # save image\n",
        "    graph_from_dot_data(tree_dot_data).write_png(\n",
        "        \"model_artifacts/Decision_Tree_Visualization.png\"\n",
        "    )\n",
        "\n",
        "    # show tree\n",
        "    return graphviz.Source(tree_dot_data)"
      ]
    },
    {
      "cell_type": "markdown",
      "metadata": {
        "id": "Dw-gpvWNx19Y"
      },
      "source": [
        "### MLflow Tracking"
      ]
    },
    {
      "cell_type": "markdown",
      "metadata": {
        "id": "M3Xve1Tox19Y"
      },
      "source": [
        "#### MLflow Logger"
      ]
    },
    {
      "cell_type": "code",
      "execution_count": null,
      "metadata": {
        "id": "0FeaZP8Nx19Y"
      },
      "outputs": [],
      "source": [
        "# 파라미터와 메트릭 추적\n",
        "def log_mlflow_run(model, signature):\n",
        "    # Auto-logging for scikit-learn estimators\n",
        "    # mlflow.sklearn.autolog()\n",
        "\n",
        "    # 로깅 정보: 모델 이름\n",
        "    name = model.__class__.__name__\n",
        "    mlflow.set_tag(\"estimator_name\", name)\n",
        "\n",
        "    # 로깅 정보 : 입력 피쳐 목록\n",
        "    mlflow.set_tag(\"features\", str(X_train.columns.values.tolist()))\n",
        "\n",
        "    # 로깅 정보 : 파라미터 정보\n",
        "    mlflow.log_params({key: model.get_params()[key] for key in parameters})\n",
        "\n",
        "    # 로깅 정보: 평가 메트릭\n",
        "    mlflow.log_metrics(\n",
        "        {\n",
        "            \"RMSE_CV\": score_cv.mean(),\n",
        "            \"RMSE\": score,\n",
        "        }\n",
        "    )\n",
        "\n",
        "    # 로깅 정보 : 학습 loss\n",
        "    for s in model.train_score_:\n",
        "        mlflow.log_metric(\"Train Loss\", s)\n",
        "\n",
        "    # 모델 아티팩트 저장\n",
        "    mlflow.sklearn.log_model(model, \"model\", signature=signature)\n",
        "\n",
        "    # log charts\n",
        "    mlflow.log_artifacts(\"model_artifacts\")\n",
        "\n",
        "    # misc\n",
        "    # Log all model parameters\n",
        "    # mlflow.log_params(model.get_params())\n",
        "    # mlflow.log_param(\"Training size\", X_test.size)\n",
        "    # mlflow.log_param(\"Test size\", y_test.size)"
      ]
    },
    {
      "cell_type": "markdown",
      "metadata": {
        "id": "-DFr52Nbx19Z"
      },
      "source": [
        "#### Initialize MLflow experiment"
      ]
    },
    {
      "cell_type": "code",
      "execution_count": null,
      "metadata": {
        "id": "budYuoe5x19Z"
      },
      "outputs": [],
      "source": [
        "experiment_name = \"rented_bikes\"\n",
        "\n",
        "mlflow.set_experiment(experiment_name)\n",
        "mlflow.set_tracking_uri(\"./mlruns\")\n",
        "\n",
        "# 모델 아티팩트 저장 폴더 생성\n",
        "# !mkdir -p \"model_artifacts\""
      ]
    },
    {
      "cell_type": "markdown",
      "metadata": {
        "id": "WY8_wZbSx19Z"
      },
      "source": [
        "#### Start experiments tracking UI"
      ]
    },
    {
      "cell_type": "code",
      "execution_count": null,
      "metadata": {
        "id": "pobGspRTx19Z"
      },
      "outputs": [],
      "source": [
        "# 백그라운드 실행\n",
        "get_ipython().system_raw(\"mlflow ui --port 5000 &\")"
      ]
    },
    {
      "cell_type": "markdown",
      "metadata": {
        "id": "5AXnxIusx19a"
      },
      "source": [
        "### Model Training"
      ]
    },
    {
      "cell_type": "code",
      "execution_count": null,
      "metadata": {
        "id": "wH7d6up6x19b"
      },
      "outputs": [],
      "source": [
        "# 모델 하이퍼파라미터\n",
        "parameters = {\n",
        "    \"learning_rate\": [0.1, 0.05, 0.01],\n",
        "    \"max_depth\": [4, 5, 6],\n",
        "}\n",
        "\n",
        "# 모델 하이퍼파라미터 튜닝 with Grid search 방식\n",
        "params_keys = parameters.keys()\n",
        "params_values = [\n",
        "    parameters[key] if isinstance(parameters[key], list) else [parameters[key]]\n",
        "    for key in params_keys\n",
        "]\n",
        "runs_parameters = [\n",
        "    dict(zip(params_keys, combination))\n",
        "    for combination in itertools.product(*params_values)\n",
        "]\n",
        "\n",
        "runs_parameters"
      ]
    },
    {
      "cell_type": "markdown",
      "metadata": {
        "id": "64zARvknx19b"
      },
      "source": [
        "#### Training runs"
      ]
    },
    {
      "cell_type": "code",
      "execution_count": null,
      "metadata": {
        "id": "_qbfshNYx19b"
      },
      "outputs": [],
      "source": [
        "# training loop\n",
        "for i, run_parameters in enumerate(runs_parameters):\n",
        "    print(f\"Run {i}: {run_parameters}\")\n",
        "\n",
        "    # mlflow: stop active runs if any\n",
        "    if mlflow.active_run():\n",
        "        mlflow.end_run()\n",
        "\n",
        "    # mlflow: track run\n",
        "    mlflow.start_run(run_name=f\"Run {i}\")\n",
        "\n",
        "    # create model instance\n",
        "    model = GradientBoostingRegressor(**run_parameters)\n",
        "\n",
        "    # train\n",
        "    model.fit(X_train, y_train)\n",
        "\n",
        "    # get evaluations scores\n",
        "    score = rmse_score(y_test, model.predict(X_test))\n",
        "    score_cv = rmse_cv_score(model, X_train, y_train)\n",
        "\n",
        "    # generate charts\n",
        "    model_feature_importance(model)\n",
        "    plt.close()\n",
        "    model_tree_visualization(model)\n",
        "\n",
        "    # get model signature\n",
        "    signature = infer_signature(\n",
        "        model_input=X_train, model_output=model.predict(X_train)\n",
        "    )\n",
        "\n",
        "    # mlflow: log metrics\n",
        "    log_mlflow_run(model, signature)\n",
        "\n",
        "    # mlflow: end tracking\n",
        "    mlflow.end_run()\n",
        "    print(\"\")"
      ]
    },
    {
      "cell_type": "markdown",
      "metadata": {
        "id": "aXjntlDux19b"
      },
      "source": [
        "#### Best Model Results"
      ]
    },
    {
      "cell_type": "code",
      "execution_count": null,
      "metadata": {
        "id": "91oK-8hvx19c"
      },
      "outputs": [],
      "source": [
        "best_run_df = mlflow.search_runs(\n",
        "    order_by=[\"metrics.RMSE_CV ASC\"], max_results=1\n",
        ")\n",
        "if len(best_run_df.index) == 0:\n",
        "    raise Exception(f\"Found no runs for experiment '{experiment_name}'\")\n",
        "\n",
        "best_run = mlflow.get_run(best_run_df.at[0, \"run_id\"])\n",
        "best_model_uri = f\"{best_run.info.artifact_uri}/model\"\n",
        "best_model = mlflow.sklearn.load_model(best_model_uri)\n",
        "\n",
        "# 베스트 결과 정보\n",
        "print(\"Best run info:\")\n",
        "print(f\"Run id: {best_run.info.run_id}\")\n",
        "print(f\"Run parameters: {best_run.data.params}\")\n",
        "print(\"Run score: RMSE_CV = {:.4f}\".format(best_run.data.metrics[\"RMSE_CV\"]))\n",
        "print(f\"Run model URI: {best_model_uri}\")"
      ]
    },
    {
      "cell_type": "markdown",
      "metadata": {
        "id": "7gBRffsax19c"
      },
      "source": [
        "### Model Serving\n"
      ]
    },
    {
      "cell_type": "code",
      "execution_count": null,
      "metadata": {
        "id": "raYis7mnx19c"
      },
      "outputs": [],
      "source": [
        "get_ipython().system_raw(\n",
        "    f\"mlflow models serve --model-uri {best_model_uri} \\\n",
        "        --host 0.0.0.0 --port 5001 --workers 1 --no-conda &\"\n",
        ")\n",
        "!sleep 5\n",
        "\n",
        "!curl --silent --show-error 'http://localhost:5001/invocations' \\\n",
        "    -H 'Content-Type: application/json' \\\n",
        "    -d '{\"dataframe_split\":{\"columns\": [\"season\", \"year\", \"month\",\\\n",
        "        \"hour_of_day\", \"is_holiday\", \"weekday\", \"is_workingday\", \\\n",
        "        \"weather_situation\", \"temperature\", \"feels_like_temperature\", \\\n",
        "        \"humidity\", \"windspeed\"], \\\n",
        "        \"data\": [[3, 0, 1, 23, 0, 6, 0, 1, 0.24, 0.2879, 0.81, 0.0000]]}}'"
      ]
    },
    {
      "cell_type": "code",
      "execution_count": null,
      "metadata": {
        "id": "VPOz2Ubiz4N6"
      },
      "outputs": [],
      "source": []
    }
  ],
  "metadata": {
    "anaconda-cloud": {},
    "colab": {
      "provenance": []
    },
    "kernelspec": {
      "display_name": "Python 3.9.7 ('mlenv')",
      "language": "python",
      "name": "python3"
    },
    "language_info": {
      "codemirror_mode": {
        "name": "ipython",
        "version": 3
      },
      "file_extension": ".py",
      "mimetype": "text/x-python",
      "name": "python",
      "nbconvert_exporter": "python",
      "pygments_lexer": "ipython3",
      "version": "3.10.13"
    },
    "vscode": {
      "interpreter": {
        "hash": "1fd825d40fcd7883d366ffef7131d95ecd0bdedaa2627e6989dcc032d9833002"
      }
    }
  },
  "nbformat": 4,
  "nbformat_minor": 0
}
